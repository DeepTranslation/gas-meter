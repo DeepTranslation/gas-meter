{
 "cells": [
  {
   "cell_type": "code",
   "execution_count": 430,
   "metadata": {},
   "outputs": [],
   "source": [
    "from keras.layers import Dense\n",
    "#Dense(units, # Number of output neurons\n",
    "#activation=None, # Activation function by name\n",
    "#use_bias=True, # Use bias term or not\n",
    "#kernel_initializer='glorot_uniform',\n",
    "#bias_initializer='zeros')\n",
    "from keras.layers import Dropout\n",
    "#Dropout(rate, # Fraction of units to drop\n",
    "#seed=None) # Random seed for reproducibility\n",
    "from keras.datasets import mnist\n",
    "from keras.utils import to_categorical\n",
    "from keras.models import Sequential\n",
    "from keras.layers import Dense, Dropout\n",
    "from keras.callbacks import Callback\n",
    "import pickle\n",
    "batch_size = 128\n",
    "num_classes = 10\n",
    "epochs = 20\n",
    "(x_train, y_train), (x_test, y_test) = mnist.load_data()"
   ]
  },
  {
   "cell_type": "code",
   "execution_count": 431,
   "metadata": {},
   "outputs": [],
   "source": [
    "x_train = x_train.reshape(60000, 784)\n",
    "x_test = x_test.reshape(10000, 784)\n",
    "x_train = x_train.astype('float32')\n",
    "x_test = x_test.astype('float32')\n",
    "x_train /= 255\n",
    "x_test /= 255\n",
    "y_train = to_categorical(y_train, num_classes)\n",
    "y_test = to_categorical(y_test, num_classes)"
   ]
  },
  {
   "cell_type": "code",
   "execution_count": 13,
   "metadata": {},
   "outputs": [],
   "source": [
    "model = Sequential()\n",
    "model.add(Dense(512, activation='relu',\n",
    "          input_shape=(784,))) # First layer only\n",
    "model.add(Dropout(0.2))\n",
    "model.add(Dense(512, activation='relu'))\n",
    "model.add(Dropout(0.2))\n",
    "model.add(Dense(num_classes, activation='sigmoid'))\n"
   ]
  },
  {
   "cell_type": "code",
   "execution_count": 371,
   "metadata": {},
   "outputs": [
    {
     "name": "stdout",
     "output_type": "stream",
     "text": [
      "_________________________________________________________________\n",
      "Layer (type)                 Output Shape              Param #   \n",
      "=================================================================\n",
      "dense_46 (Dense)             (None, 100)               211300    \n",
      "_________________________________________________________________\n",
      "dropout_31 (Dropout)         (None, 100)               0         \n",
      "_________________________________________________________________\n",
      "dense_47 (Dense)             (None, 100)               10100     \n",
      "_________________________________________________________________\n",
      "dropout_32 (Dropout)         (None, 100)               0         \n",
      "_________________________________________________________________\n",
      "dense_48 (Dense)             (None, 10)                1010      \n",
      "=================================================================\n",
      "Total params: 222,410\n",
      "Trainable params: 222,410\n",
      "Non-trainable params: 0\n",
      "_________________________________________________________________\n"
     ]
    }
   ],
   "source": [
    "model.summary()"
   ]
  },
  {
   "cell_type": "code",
   "execution_count": null,
   "metadata": {},
   "outputs": [],
   "source": []
  },
  {
   "cell_type": "code",
   "execution_count": 14,
   "metadata": {},
   "outputs": [],
   "source": [
    "#model.summary()\n",
    "model.compile(loss='categorical_crossentropy',\n",
    "              optimizer='sgd',\n",
    "              metrics=['accuracy'])"
   ]
  },
  {
   "cell_type": "code",
   "execution_count": 15,
   "metadata": {},
   "outputs": [
    {
     "name": "stdout",
     "output_type": "stream",
     "text": [
      "Train on 60000 samples, validate on 10000 samples\n",
      "Epoch 1/20\n",
      "60000/60000 [==============================] - 7s 115us/step - loss: 1.7251 - acc: 0.5558 - val_loss: 0.7761 - val_acc: 0.8398\n",
      "Epoch 2/20\n",
      "60000/60000 [==============================] - 7s 116us/step - loss: 0.6750 - acc: 0.8102 - val_loss: 0.4232 - val_acc: 0.8893\n",
      "Epoch 3/20\n",
      "60000/60000 [==============================] - 7s 111us/step - loss: 0.4884 - acc: 0.8579 - val_loss: 0.3465 - val_acc: 0.9036\n",
      "Epoch 4/20\n",
      "60000/60000 [==============================] - 7s 113us/step - loss: 0.4206 - acc: 0.8779 - val_loss: 0.3124 - val_acc: 0.9123\n",
      "Epoch 5/20\n",
      "60000/60000 [==============================] - 7s 112us/step - loss: 0.3792 - acc: 0.8888 - val_loss: 0.2859 - val_acc: 0.9192\n",
      "Epoch 6/20\n",
      "60000/60000 [==============================] - 7s 110us/step - loss: 0.3511 - acc: 0.8979 - val_loss: 0.2685 - val_acc: 0.9242\n",
      "Epoch 7/20\n",
      "60000/60000 [==============================] - 7s 111us/step - loss: 0.3265 - acc: 0.9061 - val_loss: 0.2540 - val_acc: 0.9294\n",
      "Epoch 8/20\n",
      "60000/60000 [==============================] - 7s 112us/step - loss: 0.3075 - acc: 0.9112 - val_loss: 0.2411 - val_acc: 0.9306\n",
      "Epoch 9/20\n",
      "60000/60000 [==============================] - 7s 112us/step - loss: 0.2928 - acc: 0.9145 - val_loss: 0.2295 - val_acc: 0.9350\n",
      "Epoch 10/20\n",
      "60000/60000 [==============================] - 7s 112us/step - loss: 0.2783 - acc: 0.9200 - val_loss: 0.2200 - val_acc: 0.9367\n",
      "Epoch 11/20\n",
      "60000/60000 [==============================] - 7s 110us/step - loss: 0.2646 - acc: 0.9237 - val_loss: 0.2103 - val_acc: 0.9390\n",
      "Epoch 12/20\n",
      "60000/60000 [==============================] - 7s 113us/step - loss: 0.2541 - acc: 0.9255 - val_loss: 0.2011 - val_acc: 0.9422\n",
      "Epoch 13/20\n",
      "60000/60000 [==============================] - 7s 112us/step - loss: 0.2431 - acc: 0.9292 - val_loss: 0.1924 - val_acc: 0.9450\n",
      "Epoch 14/20\n",
      "60000/60000 [==============================] - 7s 112us/step - loss: 0.2359 - acc: 0.9314 - val_loss: 0.1867 - val_acc: 0.9456\n",
      "Epoch 15/20\n",
      "60000/60000 [==============================] - 7s 113us/step - loss: 0.2238 - acc: 0.9359 - val_loss: 0.1801 - val_acc: 0.9470\n",
      "Epoch 16/20\n",
      "60000/60000 [==============================] - 7s 113us/step - loss: 0.2183 - acc: 0.9378 - val_loss: 0.1737 - val_acc: 0.9495\n",
      "Epoch 17/20\n",
      "60000/60000 [==============================] - 7s 112us/step - loss: 0.2096 - acc: 0.9391 - val_loss: 0.1683 - val_acc: 0.9507\n",
      "Epoch 18/20\n",
      "60000/60000 [==============================] - 7s 112us/step - loss: 0.2029 - acc: 0.9418 - val_loss: 0.1625 - val_acc: 0.9524\n",
      "Epoch 19/20\n",
      "60000/60000 [==============================] - 7s 112us/step - loss: 0.1974 - acc: 0.9429 - val_loss: 0.1583 - val_acc: 0.9540\n",
      "Epoch 20/20\n",
      "60000/60000 [==============================] - 7s 113us/step - loss: 0.1916 - acc: 0.9447 - val_loss: 0.1536 - val_acc: 0.9546\n",
      "Test loss: 0.153649607439\n",
      "Test accuracy: 0.9546\n"
     ]
    }
   ],
   "source": [
    "model.fit(x_train, y_train, batch_size=batch_size,\n",
    "          epochs=epochs, validation_data=(x_test, y_test))\n",
    "score = model.evaluate(x_test, y_test, verbose=0)\n",
    "print('Test loss:', score[0])\n",
    "print('Test accuracy:', score[1])"
   ]
  },
  {
   "cell_type": "code",
   "execution_count": 16,
   "metadata": {
    "scrolled": true
   },
   "outputs": [
    {
     "name": "stdout",
     "output_type": "stream",
     "text": [
      "--2019-01-07 14:42:06--  http://ufldl.stanford.edu/housenumbers/train.tar.gz\n",
      "Resolving ufldl.stanford.edu (ufldl.stanford.edu)... 171.64.68.10\n",
      "Connecting to ufldl.stanford.edu (ufldl.stanford.edu)|171.64.68.10|:80... connected.\n",
      "HTTP request sent, awaiting response... 200 OK\n",
      "Length: 404141560 (385M) [application/x-gzip]\n",
      "Saving to: ‘train.tar.gz’\n",
      "\n",
      "100%[======================================>] 404,141,560 11.3MB/s   in 37s    \n",
      "\n",
      "2019-01-07 14:42:43 (10.5 MB/s) - ‘train.tar.gz’ saved [404141560/404141560]\n",
      "\n"
     ]
    }
   ],
   "source": [
    "!wget http://ufldl.stanford.edu/housenumbers/train.tar.gz"
   ]
  },
  {
   "cell_type": "markdown",
   "metadata": {},
   "source": [
    "# Loading Data"
   ]
  },
  {
   "cell_type": "code",
   "execution_count": 17,
   "metadata": {},
   "outputs": [
    {
     "name": "stdout",
     "output_type": "stream",
     "text": [
      "--2019-01-07 14:43:10--  http://ufldl.stanford.edu/housenumbers/test_32x32.mat\n",
      "Resolving ufldl.stanford.edu (ufldl.stanford.edu)... 171.64.68.10\n",
      "Connecting to ufldl.stanford.edu (ufldl.stanford.edu)|171.64.68.10|:80... connected.\n",
      "HTTP request sent, awaiting response... 200 OK\n",
      "Length: 64275384 (61M) [text/plain]\n",
      "Saving to: ‘test_32x32.mat’\n",
      "\n",
      "100%[======================================>] 64,275,384  9.96MB/s   in 6.2s   \n",
      "\n",
      "2019-01-07 14:43:17 (9.84 MB/s) - ‘test_32x32.mat’ saved [64275384/64275384]\n",
      "\n"
     ]
    }
   ],
   "source": [
    "!wget http://ufldl.stanford.edu/housenumbers/test_32x32.mat"
   ]
  },
  {
   "cell_type": "code",
   "execution_count": 47,
   "metadata": {},
   "outputs": [
    {
     "name": "stdout",
     "output_type": "stream",
     "text": [
      "--2019-01-08 08:09:21--  http://ufldl.stanford.edu/housenumbers/train_32x32.mat\n",
      "Resolving ufldl.stanford.edu (ufldl.stanford.edu)... 171.64.68.10\n",
      "Connecting to ufldl.stanford.edu (ufldl.stanford.edu)|171.64.68.10|:80... connected.\n",
      "HTTP request sent, awaiting response... 200 OK\n",
      "Length: 182040794 (174M) [text/plain]\n",
      "Saving to: ‘train_32x32.mat.1’\n",
      "\n",
      "100%[======================================>] 182,040,794 13.5MB/s   in 15s    \n",
      "\n",
      "2019-01-08 08:09:36 (11.7 MB/s) - ‘train_32x32.mat.1’ saved [182040794/182040794]\n",
      "\n"
     ]
    }
   ],
   "source": [
    "!wget http://ufldl.stanford.edu/housenumbers/train_32x32.mat"
   ]
  },
  {
   "cell_type": "code",
   "execution_count": 432,
   "metadata": {},
   "outputs": [
    {
     "name": "stdout",
     "output_type": "stream",
     "text": [
      "5\n"
     ]
    }
   ],
   "source": [
    "#train_data = open('train_32x32.mat')\n",
    "import scipy.io as sio\n",
    "train_data = sio.loadmat('train_32x32.mat')\n",
    "print (len(train_data))"
   ]
  },
  {
   "cell_type": "code",
   "execution_count": null,
   "metadata": {},
   "outputs": [],
   "source": []
  },
  {
   "cell_type": "code",
   "execution_count": 433,
   "metadata": {},
   "outputs": [
    {
     "name": "stdout",
     "output_type": "stream",
     "text": [
      "(32, 32, 3, 73257)\n",
      "(73257, 1)\n"
     ]
    },
    {
     "data": {
      "image/png": "[encoded data removed]",
      "text/plain": [
       "<matplotlib.figure.Figure at 0x7ff330d576d8>"
      ]
     },
     "metadata": {},
     "output_type": "display_data"
    },
    {
     "name": "stdout",
     "output_type": "stream",
     "text": [
      "[3]\n"
     ]
    },
    {
     "data": {
      "image/png": "[encoded data removed]",
      "text/plain": [
       "<matplotlib.figure.Figure at 0x7ff32adb3dd8>"
      ]
     },
     "metadata": {},
     "output_type": "display_data"
    },
    {
     "name": "stdout",
     "output_type": "stream",
     "text": [
      "[3]\n"
     ]
    },
    {
     "data": {
      "image/png": "[encoded data removed]",
      "text/plain": [
       "<matplotlib.figure.Figure at 0x7ff32ad68550>"
      ]
     },
     "metadata": {},
     "output_type": "display_data"
    },
    {
     "name": "stdout",
     "output_type": "stream",
     "text": [
      "[2]\n"
     ]
    },
    {
     "data": {
      "image/png": "[encoded data removed]",
      "text/plain": [
       "<matplotlib.figure.Figure at 0x7ff32ad2bb00>"
      ]
     },
     "metadata": {},
     "output_type": "display_data"
    },
    {
     "name": "stdout",
     "output_type": "stream",
     "text": [
      "[8]\n"
     ]
    },
    {
     "data": {
      "image/png": "[encoded data removed]",
      "text/plain": [
       "<matplotlib.figure.Figure at 0x7ff32adb0080>"
      ]
     },
     "metadata": {},
     "output_type": "display_data"
    },
    {
     "name": "stdout",
     "output_type": "stream",
     "text": [
      "[7]\n"
     ]
    },
    {
     "data": {
      "image/png": "[encoded data removed]",
      "text/plain": [
       "<matplotlib.figure.Figure at 0x7ff32ac9d5c0>"
      ]
     },
     "metadata": {},
     "output_type": "display_data"
    },
    {
     "name": "stdout",
     "output_type": "stream",
     "text": [
      "[4]\n"
     ]
    },
    {
     "data": {
      "image/png": "[encoded data removed]",
      "text/plain": [
       "<matplotlib.figure.Figure at 0x7ff32ac59f98>"
      ]
     },
     "metadata": {},
     "output_type": "display_data"
    },
    {
     "name": "stdout",
     "output_type": "stream",
     "text": [
      "[4]\n"
     ]
    },
    {
     "data": {
      "image/png": "[encoded data removed]",
      "text/plain": [
       "<matplotlib.figure.Figure at 0x7ff32acded30>"
      ]
     },
     "metadata": {},
     "output_type": "display_data"
    },
    {
     "name": "stdout",
     "output_type": "stream",
     "text": [
      "[1]\n"
     ]
    },
    {
     "data": {
      "image/png": "[encoded data removed]",
      "text/plain": [
       "<matplotlib.figure.Figure at 0x7ff32ac21a20>"
      ]
     },
     "metadata": {},
     "output_type": "display_data"
    },
    {
     "name": "stdout",
     "output_type": "stream",
     "text": [
      "[2]\n"
     ]
    },
    {
     "data": {
      "image/png": "[encoded data removed]",
      "text/plain": [
       "<matplotlib.figure.Figure at 0x7ff32aca0588>"
      ]
     },
     "metadata": {},
     "output_type": "display_data"
    },
    {
     "name": "stdout",
     "output_type": "stream",
     "text": [
      "[8]\n"
     ]
    }
   ],
   "source": [
    "import numpy as np\n",
    "import scipy.io as sio\n",
    "import matplotlib.pyplot as plt\n",
    "%matplotlib inline\n",
    "\n",
    "image_ind = 10\n",
    "train_data = sio.loadmat('train_32x32.mat')\n",
    "test_data = sio.loadmat('test_32x32.mat')\n",
    "\n",
    "# access to the dict\n",
    "x_train = train_data['X']\n",
    "y_train = train_data['y']\n",
    "x_test = test_data['X']\n",
    "y_test = test_data['y']\n",
    "\n",
    "# show sample\n",
    "print (x_train.shape)\n",
    "print (y_train.shape)\n",
    "\n",
    "for i in range(10, 20):\n",
    "    plt.imshow(x_train[:,:,:,i])\n",
    "    plt.show()\n",
    "    print (y_train[i])"
   ]
  },
  {
   "cell_type": "markdown",
   "metadata": {},
   "source": [
    "## Data Exploration"
   ]
  },
  {
   "cell_type": "code",
   "execution_count": 64,
   "metadata": {},
   "outputs": [],
   "source": [
    "np.save('x_train.npy', x_train)"
   ]
  },
  {
   "cell_type": "code",
   "execution_count": 65,
   "metadata": {},
   "outputs": [
    {
     "data": {
      "text/plain": [
       "(32, 32, 3, 73257)"
      ]
     },
     "execution_count": 65,
     "metadata": {},
     "output_type": "execute_result"
    }
   ],
   "source": [
    "d = np.load('x_train.npy')\n",
    "d.shape"
   ]
  },
  {
   "cell_type": "markdown",
   "metadata": {},
   "source": [
    "# Data Exploration"
   ]
  },
  {
   "cell_type": "code",
   "execution_count": 434,
   "metadata": {},
   "outputs": [],
   "source": [
    "class LossHistory(Callback):\n",
    "    def on_train_begin(self, logs={}):\n",
    "        self.losses = []\n",
    "\n",
    "    def on_batch_end(self, batch, logs={}):\n",
    "        sys.stdout.write(str(logs.get('loss'))+str(', '))\n",
    "        sys.stdout.flush()\n",
    "        self.losses.append(logs.get('loss'))\n",
    "        \n",
    "lr = LossHistory()"
   ]
  },
  {
   "cell_type": "code",
   "execution_count": 435,
   "metadata": {},
   "outputs": [],
   "source": [
    "def valueDistribution(values):\n",
    "    return np.unique(values, return_counts=True)"
   ]
  },
  {
   "cell_type": "code",
   "execution_count": 436,
   "metadata": {},
   "outputs": [],
   "source": [
    "def printFrequencyDistribution(y_train_values, y_test_values,number_labels):\n",
    "    test_value_distribution = valueDistribution(y_test_values)\n",
    "    train_value_distribution = valueDistribution(y_train_values)\n",
    "    #test_value_distribution = np.unique(y_test_values, return_counts=True)\n",
    "    #train_value_distribution = np.unique(y_train_values, return_counts=True)\n",
    "    ind = np.arange(Number_labels) \n",
    "\n",
    "    plt.bar(ind, train_value_distribution[1], align='center', color='blue', label='Training Labels')\n",
    "    plt.bar(ind, test_value_distribution[1], align='center', color='red', label='Testing Labels')\n",
    "    plt.legend()\n",
    "    plt.xlabel('Class Labels')\n",
    "    plt.ylabel('Number of Label Occurences')\n",
    "    plt.title('Frequency Distribution of Class Labels')\n",
    "    plt.show()\n",
    "    plt.show()\n",
    "    print (train_value_distribution)\n",
    "\n",
    " "
   ]
  },
  {
   "cell_type": "code",
   "execution_count": 437,
   "metadata": {},
   "outputs": [
    {
     "data": {
      "image/png": "[encoded data removed]",
      "text/plain": [
       "<matplotlib.figure.Figure at 0x7ff32ade2400>"
      ]
     },
     "metadata": {},
     "output_type": "display_data"
    },
    {
     "name": "stdout",
     "output_type": "stream",
     "text": [
      "(array([ 1,  2,  3,  4,  5,  6,  7,  8,  9, 10], dtype=uint8), array([13861, 10585,  8497,  7458,  6882,  5727,  5595,  5045,  4659,  4948]))\n",
      "4659\n"
     ]
    }
   ],
   "source": [
    "\n",
    "printFrequencyDistribution(y_train, y_test,num_classes)     \n",
    "    \n",
    "\n",
    "train_min = np.min(train_value_distribution[1])\n",
    "print (train_min)"
   ]
  },
  {
   "cell_type": "code",
   "execution_count": 438,
   "metadata": {},
   "outputs": [],
   "source": [
    "def valueSelection(x_values,y_values,cut):\n",
    "    selector = np.ones((len(y_values)), dtype=bool)\n",
    "    selector[0:10]\n",
    "    for ind in range(10):\n",
    "        sel =y_values[:,0]==ind\n",
    "        sel[np.argwhere(sel)[:cut]]=0\n",
    "        selector[sel] = 0\n",
    "    y_selection=y_values[selector]\n",
    "    x_selection=x_values[:,:,:,selector]\n",
    "    return (x_selection,y_selection)"
   ]
  },
  {
   "cell_type": "code",
   "execution_count": 439,
   "metadata": {},
   "outputs": [
    {
     "name": "stdout",
     "output_type": "stream",
     "text": [
      "(32, 22, 3, 46590)\n"
     ]
    },
    {
     "data": {
      "image/png": "[encoded data removed]",
      "text/plain": [
       "<matplotlib.figure.Figure at 0x7ff32b1419b0>"
      ]
     },
     "metadata": {},
     "output_type": "display_data"
    },
    {
     "name": "stdout",
     "output_type": "stream",
     "text": [
      "[0]\n"
     ]
    },
    {
     "data": {
      "image/png": "[encoded data removed]",
      "text/plain": [
       "<matplotlib.figure.Figure at 0x7ff32b22e860>"
      ]
     },
     "metadata": {},
     "output_type": "display_data"
    },
    {
     "name": "stdout",
     "output_type": "stream",
     "text": [
      "[0]\n"
     ]
    }
   ],
   "source": [
    "#x_train_cut= x_train_small[:,5:27,:,]\n",
    "#x_test_cut= x_test_small[:,5:27,:,]\n",
    "print (x_train_small.shape)\n",
    "plt.imshow(x_train_small[:,:,:,93])\n",
    "plt.show()\n",
    "print (y_train_small[93])\n",
    "plt.imshow(x_train_small[:,:,:,96])\n",
    "plt.show()\n",
    "print (y_train_small[96])"
   ]
  },
  {
   "cell_type": "code",
   "execution_count": 440,
   "metadata": {},
   "outputs": [
    {
     "name": "stdout",
     "output_type": "stream",
     "text": [
      "(32, 22, 3, 46590)\n",
      "(32, 22, 3, 15950)\n",
      "46590\n",
      "15950\n"
     ]
    }
   ],
   "source": [
    "print (x_train_small.shape)\n",
    "print (x_test_small.shape)\n",
    "#print (x_train_cut[:,:,:,10])\n",
    "number_train=len(y_train_small)\n",
    "number_test=len(y_test_small)\n",
    "print(number_train)\n",
    "print(number_test)\n"
   ]
  },
  {
   "cell_type": "code",
   "execution_count": 441,
   "metadata": {},
   "outputs": [
    {
     "name": "stdout",
     "output_type": "stream",
     "text": [
      "4659\n",
      "(32, 22, 3, 46590)\n",
      "(46590, 1)\n"
     ]
    }
   ],
   "source": [
    "\n",
    "train_min = np.min(valueDistribution(y_train)[1])\n",
    "test_min = np.min(valueDistribution(y_test)[1])\n",
    "print (train_min)\n",
    "print (x_train_small.shape)\n",
    "print (y_train_small.shape)\n",
    "#x_train_small,y_train_small=valueSelection(x_train_cut,y_train,train_min)\n",
    "#x_test_small,y_test_small=valueSelection(x_test_cut,y_test,test_min)\n"
   ]
  },
  {
   "cell_type": "code",
   "execution_count": 442,
   "metadata": {},
   "outputs": [
    {
     "data": {
      "image/png": "[encoded data removed]",
      "text/plain": [
       "<matplotlib.figure.Figure at 0x7ff32b0e4b00>"
      ]
     },
     "metadata": {},
     "output_type": "display_data"
    },
    {
     "name": "stdout",
     "output_type": "stream",
     "text": [
      "(array([0, 1, 2, 3, 4, 5, 6, 7, 8, 9], dtype=uint8), array([4659, 4659, 4659, 4659, 4659, 4659, 4659, 4659, 4659, 4659]))\n"
     ]
    }
   ],
   "source": [
    "printFrequencyDistribution(y_train_small,y_test_small,num_classes) "
   ]
  },
  {
   "cell_type": "code",
   "execution_count": 443,
   "metadata": {},
   "outputs": [
    {
     "name": "stdout",
     "output_type": "stream",
     "text": [
      "(32, 22, 3, 46590)\n",
      "(32, 22, 3, 15950)\n"
     ]
    }
   ],
   "source": [
    "print (x_train_small.shape)\n",
    "print (x_test_small.shape)"
   ]
  },
  {
   "cell_type": "markdown",
   "metadata": {},
   "source": [
    "# Data Preprocessing"
   ]
  },
  {
   "cell_type": "code",
   "execution_count": 444,
   "metadata": {},
   "outputs": [
    {
     "name": "stdout",
     "output_type": "stream",
     "text": [
      "(32, 22, 3, 46590)\n"
     ]
    },
    {
     "data": {
      "image/png": "[encoded data removed]",
      "text/plain": [
       "<matplotlib.figure.Figure at 0x7ff330a343c8>"
      ]
     },
     "metadata": {},
     "output_type": "display_data"
    },
    {
     "name": "stdout",
     "output_type": "stream",
     "text": [
      "[0]\n"
     ]
    },
    {
     "data": {
      "image/png": "[encoded data removed]",
      "text/plain": [
       "<matplotlib.figure.Figure at 0x7ff330ae87b8>"
      ]
     },
     "metadata": {},
     "output_type": "display_data"
    },
    {
     "name": "stdout",
     "output_type": "stream",
     "text": [
      "[0]\n"
     ]
    }
   ],
   "source": [
    "#x_train_cut= x_train_small[:,5:27,:,]\n",
    "#x_test_cut= x_test_small[:,5:27,:,]\n",
    "print (x_train_small.shape)\n",
    "plt.imshow(x_train_small[:,:,:,93])\n",
    "plt.show()\n",
    "print (y_train_small[93])\n",
    "plt.imshow(x_train_small[:,:,:,96])\n",
    "plt.show()\n",
    "print (y_train_small[96])"
   ]
  },
  {
   "cell_type": "code",
   "execution_count": 445,
   "metadata": {},
   "outputs": [
    {
     "name": "stdout",
     "output_type": "stream",
     "text": [
      "(32, 22, 3, 46590)\n",
      "(32, 22, 3, 15950)\n",
      "46590\n",
      "15950\n"
     ]
    }
   ],
   "source": [
    "print (x_train_small.shape)\n",
    "print (x_test_small.shape)\n",
    "#print (x_train_cut[:,:,:,10])\n",
    "number_train=len(y_train_small)\n",
    "number_test=len(y_test_small)\n",
    "print(number_train)\n",
    "print(number_test)\n"
   ]
  },
  {
   "cell_type": "code",
   "execution_count": 446,
   "metadata": {},
   "outputs": [
    {
     "name": "stdout",
     "output_type": "stream",
     "text": [
      "Train data: (704, 3, 46590) , Train labels: (46590, 1)\n",
      "Test data: (704, 3, 15950) , Test labels: (15950, 1)\n"
     ]
    }
   ],
   "source": [
    "x_train_three_dim = x_train_small.reshape(704,3,number_train)\n",
    "x_test_three_dim = x_test_small.reshape(704, 3, number_test)\n",
    "x_train_data = x_train_three_dim.astype('float32')\n",
    "x_test_data = x_test_three_dim.astype('float32')\n",
    "x_train_data /= 256\n",
    "x_test_data /= 256\n",
    "#changing class labels range 1-10 to 0-9\n",
    "y_train_small[y_train_small == 10] = 0\n",
    "y_test_small[y_test_small == 10] = 0\n",
    "\n",
    "#y_train_onehot = to_categorical(y_train, 10)\n",
    "#y_test_onehot = to_categorical(y_test, 10)\n",
    "\n",
    "print ('Train data:', x_train_data.shape,', Train labels:', y_train_small.shape)\n",
    "print ('Test data:', x_test_data.shape,', Test labels:', y_test_small.shape)"
   ]
  },
  {
   "cell_type": "code",
   "execution_count": 447,
   "metadata": {},
   "outputs": [
    {
     "data": {
      "image/png": "[encoded data removed]",
      "text/plain": [
       "<matplotlib.figure.Figure at 0x7ff32ee180b8>"
      ]
     },
     "metadata": {},
     "output_type": "display_data"
    },
    {
     "name": "stdout",
     "output_type": "stream",
     "text": [
      "[9]\n",
      "[ 0.  0.  0.  0.  0.  0.  0.  0.  0.  1.]\n"
     ]
    }
   ],
   "source": [
    "y_train_onehot = to_categorical(y_train_small, num_classes)\n",
    "y_test_onehot = to_categorical(y_test_small,  num_classes)\n",
    "plt.imshow(x_train_small[:,:,:,1])\n",
    "plt.show()\n",
    "print (y_train[1])\n",
    "print (y_train_onehot[1])"
   ]
  },
  {
   "cell_type": "code",
   "execution_count": 448,
   "metadata": {},
   "outputs": [],
   "source": [
    "model = Sequential()\n",
    "model.add(Dense(100, activation='relu',\n",
    "          input_shape=(704*3,))) # First layer only\n",
    "model.add(Dropout(0.1))\n",
    "model.add(Dense(100, activation='relu'))\n",
    "model.add(Dropout(0.1))\n",
    "model.add(Dense(num_classes, activation='sigmoid'))\n"
   ]
  },
  {
   "cell_type": "code",
   "execution_count": 449,
   "metadata": {},
   "outputs": [
    {
     "name": "stdout",
     "output_type": "stream",
     "text": [
      "_________________________________________________________________\n",
      "Layer (type)                 Output Shape              Param #   \n",
      "=================================================================\n",
      "dense_49 (Dense)             (None, 100)               211300    \n",
      "_________________________________________________________________\n",
      "dropout_33 (Dropout)         (None, 100)               0         \n",
      "_________________________________________________________________\n",
      "dense_50 (Dense)             (None, 100)               10100     \n",
      "_________________________________________________________________\n",
      "dropout_34 (Dropout)         (None, 100)               0         \n",
      "_________________________________________________________________\n",
      "dense_51 (Dense)             (None, 10)                1010      \n",
      "=================================================================\n",
      "Total params: 222,410\n",
      "Trainable params: 222,410\n",
      "Non-trainable params: 0\n",
      "_________________________________________________________________\n"
     ]
    }
   ],
   "source": [
    "model.summary()"
   ]
  },
  {
   "cell_type": "code",
   "execution_count": 385,
   "metadata": {},
   "outputs": [
    {
     "data": {
      "text/plain": [
       "(704, 3, 46590)"
      ]
     },
     "execution_count": 385,
     "metadata": {},
     "output_type": "execute_result"
    }
   ],
   "source": [
    "x_train_data.shape"
   ]
  },
  {
   "cell_type": "code",
   "execution_count": 450,
   "metadata": {},
   "outputs": [],
   "source": [
    "model.compile(loss='categorical_crossentropy',\n",
    "              optimizer='sgd',\n",
    "              metrics=['accuracy'])"
   ]
  },
  {
   "cell_type": "code",
   "execution_count": 374,
   "metadata": {},
   "outputs": [
    {
     "name": "stdout",
     "output_type": "stream",
     "text": [
      "Train on 46590 samples, validate on 15950 samples\n",
      "Epoch 1/1\n",
      "46590/46590 [==============================] - 5s 103us/step - loss: 0.3762 - acc: 0.8767 - val_loss: 0.6665 - val_acc: 0.8115\n"
     ]
    }
   ],
   "source": [
    "epochs=1\n",
    "batch_size=88\n",
    "result= model.fit(x_train_data.reshape((704*3,-1)).T, y_train_onehot, batch_size=batch_size,\n",
    "          epochs=epochs, validation_data=(x_test_data.reshape((704*3,-1)).T, y_test_onehot))\n",
    "#score = model.evaluate(x_test_data, y_test_data, verbose=0)\n",
    "#print('Test loss:', score[0])\n",
    "#print('Test accuracy:', score[1])"
   ]
  },
  {
   "cell_type": "code",
   "execution_count": 321,
   "metadata": {},
   "outputs": [
    {
     "name": "stdout",
     "output_type": "stream",
     "text": [
      "<keras.callbacks.History object at 0x7ff330adb748>\n"
     ]
    }
   ],
   "source": [
    "print (result)"
   ]
  },
  {
   "cell_type": "code",
   "execution_count": 487,
   "metadata": {},
   "outputs": [
    {
     "name": "stdout",
     "output_type": "stream",
     "text": [
      "Test loss: 0.663898684504\n",
      "Test accuracy: 0.799247648903\n"
     ]
    }
   ],
   "source": [
    "score = model.evaluate(x_test_data.reshape((704*3,-1)).T, y_test_onehot, verbose=0)\n",
    "print('Test loss:', score[0])\n",
    "print('Test accuracy:', score[1])"
   ]
  },
  {
   "cell_type": "code",
   "execution_count": null,
   "metadata": {},
   "outputs": [],
   "source": [
    "for i in range(6, 14):\n",
    "    plt.imshow(x_test_data[:,:,:,i])\n",
    "    plt.show()"
   ]
  },
  {
   "cell_type": "code",
   "execution_count": 278,
   "metadata": {},
   "outputs": [],
   "source": [
    "np.set_printoptions(linewidth=180)"
   ]
  },
  {
   "cell_type": "code",
   "execution_count": 488,
   "metadata": {},
   "outputs": [
    {
     "name": "stdout",
     "output_type": "stream",
     "text": [
      "(15950, 2112)\n",
      "Correct Values: [5 2 1 0 6 1 9 1 1 8 3 6 5 1 4 4 1 6 3 4 2 0 1 3 2 5 4 1 4 2]\n",
      "Prediction:     [5 2 1 0 6 1 9 1 1 8 9 6 5 1 4 4 1 6 3 4 2 0 1 9 2 5 8 1 4 2]\n",
      "[[  6.76326181e-07   6.81376333e-09   9.40734637e-08   5.76293246e-07   5.47122561e-08   5.08495650e-05   8.34374805e-06   3.43321005e-07   5.18218712e-07   4.33638161e-06]\n",
      " [  5.20304468e-07   3.34954677e-07   1.16548722e-03   7.03999331e-06   2.57707057e-07   2.47496956e-07   5.88456537e-08   9.58911869e-07   3.65113215e-06   1.54467227e-06]\n",
      " [  1.09530379e-06   9.01704789e-06   2.31071681e-07   1.00611430e-08   2.94969340e-07   3.07767323e-08   1.10230211e-07   1.01863478e-07   5.10081350e-07   1.04555930e-07]\n",
      " [  3.51549934e-05   1.18693407e-07   2.99191197e-06   1.40926013e-05   1.58254764e-07   3.02126409e-06   1.80003517e-05   6.54656333e-07   2.21912273e-06   3.44443652e-06]\n",
      " [  8.57790699e-04   2.19598805e-04   1.69500112e-04   2.16817803e-04   4.91898536e-05   1.84729768e-04   9.58272349e-03   7.38305331e-04   2.92189745e-03   3.67580069e-05]\n",
      " [  1.42569916e-04   4.06908058e-03   1.21755957e-05   7.26732378e-06   6.45374676e-05   1.72954310e-06   2.86688137e-05   1.91044146e-05   1.35301689e-05   8.04767114e-06]\n",
      " [  3.52315311e-07   9.38064915e-08   2.38926395e-06   7.66632547e-06   2.14136222e-07   1.45483327e-05   6.51243909e-07   8.82616575e-08   2.03545642e-05   7.29225940e-05]\n",
      " [  2.03532954e-10   1.48727240e-05   1.32483621e-10   6.86989562e-11   2.30162533e-09   4.09872206e-11   7.11714992e-11   2.43976128e-09   8.18462520e-10   4.84906337e-10]\n",
      " [  3.43993804e-07   3.10952426e-04   1.01646356e-05   2.26887678e-05   7.15537817e-06   3.47520427e-06   1.33940216e-06   5.60723174e-06   9.26521352e-06   3.54144572e-06]\n",
      " [  7.45971514e-12   3.89152821e-13   6.92641148e-13   4.22446800e-11   3.86969493e-12   1.80189128e-11   1.61051599e-08   3.91454447e-14   4.21142686e-05   2.34163133e-10]\n",
      " [  5.01482198e-08   2.28851142e-08   7.74194486e-09   1.24417255e-07   6.50429612e-08   1.68401570e-07   1.16316832e-08   1.13590941e-08   9.92852236e-08   6.91068522e-07]\n",
      " [  7.65866134e-05   8.60371510e-05   7.06364372e-05   7.93642394e-05   1.93981741e-05   9.87839157e-05   1.09243044e-03   9.24440465e-05   3.59048485e-04   2.21169976e-05]\n",
      " [  5.39922576e-06   5.12452743e-06   7.16125578e-05   1.42783232e-04   1.34507009e-05   1.81142450e-03   8.36606996e-05   8.95263020e-06   1.41138167e-04   2.35090760e-04]\n",
      " [  1.72245489e-08   1.47370474e-06   7.86911798e-08   2.98680675e-07   3.16275475e-07   2.83197767e-08   7.00696301e-09   5.66926452e-08   8.47529265e-08   9.28700743e-08]\n",
      " [  4.81225072e-07   1.05943639e-06   3.37520589e-07   1.37372623e-07   8.95082849e-06   1.41334311e-07   2.03692184e-06   1.61281889e-07   1.38035318e-06   1.40322493e-06]]\n"
     ]
    },
    {
     "data": {
      "image/png": "[encoded data removed]",
      "text/plain": [
       "<matplotlib.figure.Figure at 0x7ff32b413e80>"
      ]
     },
     "metadata": {},
     "output_type": "display_data"
    },
    {
     "name": "stdout",
     "output_type": "stream",
     "text": [
      "[9]\n"
     ]
    },
    {
     "data": {
      "image/png": "[encoded data removed]",
      "text/plain": [
       "<matplotlib.figure.Figure at 0x7ff32b55d9b0>"
      ]
     },
     "metadata": {},
     "output_type": "display_data"
    },
    {
     "name": "stdout",
     "output_type": "stream",
     "text": [
      "[3]\n"
     ]
    },
    {
     "data": {
      "image/png": "[encoded data removed]",
      "text/plain": [
       "<matplotlib.figure.Figure at 0x7ff32b5807b8>"
      ]
     },
     "metadata": {},
     "output_type": "display_data"
    },
    {
     "name": "stdout",
     "output_type": "stream",
     "text": [
      "[3]\n"
     ]
    },
    {
     "data": {
      "image/png": "[encoded data removed]",
      "text/plain": [
       "<matplotlib.figure.Figure at 0x7ff32b5277b8>"
      ]
     },
     "metadata": {},
     "output_type": "display_data"
    },
    {
     "name": "stdout",
     "output_type": "stream",
     "text": [
      "[1]\n"
     ]
    },
    {
     "data": {
      "image/png": "[encoded data removed]",
      "text/plain": [
       "<matplotlib.figure.Figure at 0x7ff32b5bd7b8>"
      ]
     },
     "metadata": {},
     "output_type": "display_data"
    },
    {
     "name": "stdout",
     "output_type": "stream",
     "text": [
      "[3]\n"
     ]
    },
    {
     "data": {
      "image/png": "[encoded data removed]",
      "text/plain": [
       "<matplotlib.figure.Figure at 0x7ff32abdcc18>"
      ]
     },
     "metadata": {},
     "output_type": "display_data"
    },
    {
     "name": "stdout",
     "output_type": "stream",
     "text": [
      "[3]\n"
     ]
    },
    {
     "data": {
      "image/png": "[encoded data removed]",
      "text/plain": [
       "<matplotlib.figure.Figure at 0x7ff32ab9fe10>"
      ]
     },
     "metadata": {},
     "output_type": "display_data"
    },
    {
     "name": "stdout",
     "output_type": "stream",
     "text": [
      "[2]\n"
     ]
    },
    {
     "data": {
      "image/png": "[encoded data removed]",
      "text/plain": [
       "<matplotlib.figure.Figure at 0x7ff32abc49e8>"
      ]
     },
     "metadata": {},
     "output_type": "display_data"
    },
    {
     "name": "stdout",
     "output_type": "stream",
     "text": [
      "[8]\n"
     ]
    }
   ],
   "source": [
    "# new instances where we do not know the answer\n",
    "#Xnew, _ = make_blobs(n_samples=3, centers=2, n_features=2, random_state=1)\n",
    "#Xnew = scalar.transform(Xnew)\n",
    "# make a prediction\n",
    "Xnew = x_test_data.reshape((704*3,-1)).T\n",
    "print (Xnew.shape)\n",
    "#ynew = model.predict_classes(Xnew[1])\n",
    "# show the inputs and predicted outputs\n",
    "#out2 = model.predict(Xnew)  \n",
    "#print(np.argmax(out2))\n",
    "out2 = model.predict(Xnew[0:30])\n",
    "y =y_test_small.reshape([-1])\n",
    "print ('Correct Values:',y[0:30])\n",
    "print ('Prediction:    ',np.argmax(out2, axis=1))\n",
    "print (out2[:15])\n",
    "\n",
    "for i in range(6, 14):\n",
    "    plt.imshow(x_train_small[:,:,:,i])\n",
    "    plt.show()\n",
    "    print (y_train_small[i])\n",
    "#print(\"X=%s, Predicted=%s\" % (Xnew[1], ynew[1]))"
   ]
  },
  {
   "cell_type": "code",
   "execution_count": 355,
   "metadata": {},
   "outputs": [],
   "source": [
    "import copy \n",
    "modelbackup = copy.deepcopy(model)"
   ]
  },
  {
   "cell_type": "code",
   "execution_count": 356,
   "metadata": {},
   "outputs": [],
   "source": [
    "pickle.dump(modelbackup, open('modelv8.pck','wb'))\n",
    "#pickle.dump(modelbackup, open('model.pck','wb'),protocol=-1)"
   ]
  },
  {
   "cell_type": "code",
   "execution_count": 452,
   "metadata": {},
   "outputs": [],
   "source": [
    "model = pickle.load( open( \"modelv8.pck\", \"rb\" ) )"
   ]
  },
  {
   "cell_type": "code",
   "execution_count": 454,
   "metadata": {},
   "outputs": [
    {
     "ename": "AttributeError",
     "evalue": "'LossHistory' object has no attribute 'losses'",
     "output_type": "error",
     "traceback": [
      "\u001b[0;31m---------------------------------------------------------------------------\u001b[0m",
      "\u001b[0;31mAttributeError\u001b[0m                            Traceback (most recent call last)",
      "\u001b[0;32m<ipython-input-454-cee74dee28dd>\u001b[0m in \u001b[0;36m<module>\u001b[0;34m()\u001b[0m\n\u001b[1;32m      2\u001b[0m \u001b[0;34m\u001b[0m\u001b[0m\n\u001b[1;32m      3\u001b[0m \u001b[0mfig\u001b[0m\u001b[0;34m,\u001b[0m \u001b[0max\u001b[0m \u001b[0;34m=\u001b[0m \u001b[0mplt\u001b[0m\u001b[0;34m.\u001b[0m\u001b[0msubplots\u001b[0m\u001b[0;34m(\u001b[0m\u001b[0mnum\u001b[0m\u001b[0;34m=\u001b[0m\u001b[0;32mNone\u001b[0m\u001b[0;34m,\u001b[0m \u001b[0mfigsize\u001b[0m\u001b[0;34m=\u001b[0m\u001b[0;34m(\u001b[0m\u001b[0;36m14\u001b[0m\u001b[0;34m,\u001b[0m \u001b[0;36m6\u001b[0m\u001b[0;34m)\u001b[0m\u001b[0;34m,\u001b[0m \u001b[0mdpi\u001b[0m\u001b[0;34m=\u001b[0m\u001b[0;36m80\u001b[0m\u001b[0;34m,\u001b[0m \u001b[0mfacecolor\u001b[0m\u001b[0;34m=\u001b[0m\u001b[0;34m'w'\u001b[0m\u001b[0;34m,\u001b[0m \u001b[0medgecolor\u001b[0m\u001b[0;34m=\u001b[0m\u001b[0;34m'k'\u001b[0m\u001b[0;34m)\u001b[0m\u001b[0;34m\u001b[0m\u001b[0m\n\u001b[0;32m----> 4\u001b[0;31m \u001b[0msize\u001b[0m \u001b[0;34m=\u001b[0m \u001b[0mlen\u001b[0m\u001b[0;34m(\u001b[0m\u001b[0mlr\u001b[0m\u001b[0;34m.\u001b[0m\u001b[0mlosses\u001b[0m\u001b[0;34m)\u001b[0m\u001b[0;34m\u001b[0m\u001b[0m\n\u001b[0m\u001b[1;32m      5\u001b[0m \u001b[0;31m#ax.plot(range(0,size), lr.losses, '-', color='blue', animated = True, linewidth=1)\u001b[0m\u001b[0;34m\u001b[0m\u001b[0;34m\u001b[0m\u001b[0m\n\u001b[1;32m      6\u001b[0m \u001b[0;34m\u001b[0m\u001b[0m\n",
      "\u001b[0;31mAttributeError\u001b[0m: 'LossHistory' object has no attribute 'losses'"
     ]
    },
    {
     "data": {
      "image/png": "[encoded data removed]",
      "text/plain": [
       "<matplotlib.figure.Figure at 0x7ff32ba06518>"
      ]
     },
     "metadata": {},
     "output_type": "display_data"
    }
   ],
   "source": [
    "\n",
    "\n",
    "fig, ax = plt.subplots(num=None, figsize=(14, 6), dpi=80, facecolor='w', edgecolor='k')\n",
    "size = len(lr.losses)\n",
    "#ax.plot(range(0,size), lr.losses, '-', color='blue', animated = True, linewidth=1)\n",
    "\n"
   ]
  },
  {
   "cell_type": "code",
   "execution_count": 407,
   "metadata": {},
   "outputs": [
    {
     "name": "stdout",
     "output_type": "stream",
     "text": [
      "--2019-01-09 16:00:56--  https://koch-uebersetzungen.de/data/Data.tar\n",
      "Resolving koch-uebersetzungen.de (koch-uebersetzungen.de)... 213.133.104.46\n",
      "Connecting to koch-uebersetzungen.de (koch-uebersetzungen.de)|213.133.104.46|:443... connected.\n",
      "HTTP request sent, awaiting response... 200 OK\n",
      "Length: 193024 (188K) [application/x-tar]\n",
      "Saving to: ‘Data.tar’\n",
      "\n",
      "100%[======================================>] 193,024      505KB/s   in 0.4s   \n",
      "\n",
      "2019-01-09 16:00:57 (505 KB/s) - ‘Data.tar’ saved [193024/193024]\n",
      "\n"
     ]
    }
   ],
   "source": [
    "!wget https://koch-uebersetzungen.de/data/Data.tar"
   ]
  },
  {
   "cell_type": "code",
   "execution_count": 409,
   "metadata": {},
   "outputs": [
    {
     "name": "stdout",
     "output_type": "stream",
     "text": [
      "mkdir: cannot create directory ‘numbers’: File exists\r\n"
     ]
    }
   ],
   "source": [
    "!mkdir numbers"
   ]
  },
  {
   "cell_type": "code",
   "execution_count": 418,
   "metadata": {},
   "outputs": [],
   "source": [
    "!mv *.png numbers\n"
   ]
  },
  {
   "cell_type": "code",
   "execution_count": 420,
   "metadata": {},
   "outputs": [
    {
     "name": "stdout",
     "output_type": "stream",
     "text": [
      "/bin/sh: del: command not found\r\n"
     ]
    }
   ],
   "source": [
    "!del numbers/Data.tar"
   ]
  },
  {
   "cell_type": "code",
   "execution_count": 515,
   "metadata": {},
   "outputs": [],
   "source": [
    "from PIL import Image\n",
    "import glob\n",
    "import os\n",
    "path = 'numbers'\n",
    "\n",
    "x_images_list=[]\n",
    "y_images_list=[]\n",
    "# adjust width and height to your needs\n",
    "width = 22\n",
    "height = 32\n",
    "\n",
    "for filename in glob.glob(os.path.join(path, '*.png')):\n",
    "    imageFile = filename\n",
    "    im1 = Image.open(imageFile)\n",
    "    im2 = im1.resize((width, height), Image.BILINEAR)\n",
    "    im3 = np.asarray(im2)\n",
    "    x_images_list.append(im3)\n",
    "    y_images_list.append(int(filename[8]))\n",
    "x_images = np.array(x_images_list)\n",
    "y_images = np.array(y_images_list)\n",
    "x_images = np.transpose(x_images, (1,2,3, 0))"
   ]
  },
  {
   "cell_type": "code",
   "execution_count": 513,
   "metadata": {},
   "outputs": [
    {
     "name": "stdout",
     "output_type": "stream",
     "text": [
      "[9 0 1 6 0 5 0 1]\n",
      "(32, 22, 3, 8)\n",
      "[[177 174 133  75  43  30  23  22  17   8   6   3   3   4   7  15  25  31  40  54  77 117]\n",
      " [175 178 140  84  54  40  33  25  20  13   7   6  12  13  18  23  35  41  44  52  75 115]\n",
      " [169 173 143  93  62  52  43  41  34  27  21  21  29  28  32  36  48  53  54  53  70 113]\n",
      " [164 167 149 102  67  62  56  50  45  45  47  42  39  40  41  47  58  62  59  51  62 106]\n",
      " [163 163 150 107  72  67  61  52  52  56  64  59  50  53  51  49  61  70  63  51  61 109]\n",
      " [164 163 138  97  73  63  60  57  63  70  75  67  65  69  67  59  58  61  59  49  58 115]\n",
      " [163 164 134  95  73  67  65  69  73  69  71  63  63  68  68  65  64  60  64  47  55 113]\n",
      " [162 163 136  96  68  63  70  80  78  63  53  46  49  55  61  67  64  61  72  54  57 109]\n",
      " [163 167 137  89  61  62  75  78  73  44  31  30  29  29  38  59  62  62  64  55  63 108]\n",
      " [164 169 137  85  56  61  78  83  60  22  11   7   7  14  24  51  68  65  57  51  68 111]\n",
      " [167 169 139  83  51  63  87  84  52  13   4   3   3   6  14  39  60  62  54  53  69 109]\n",
      " [167 169 137  79  45  67  87  77  47  13   3   3   2   5  16  38  58  65  57  55  70 106]\n",
      " [171 169 131  74  46  68  84  77  44  12   5   3   3   5  11  34  58  65  57  56  72 111]\n",
      " [171 166 125  71  47  64  83  79  50  14   3   3   3   4  10  33  55  63  57  55  72 115]\n",
      " [166 164 123  69  45  56  80  77  59  19   4   4   2   3  10  34  54  61  53  53  75 118]\n",
      " [168 167 121  63  40  50  76  76  64  32   7   3   3   6  16  40  55  58  47  47  75 120]\n",
      " [169 164 120  63  37  40  58  70  71  56  29  13  13  23  40  52  57  57  45  46  76 119]\n",
      " [166 163 116  66  38  34  40  62  74  72  66  52  51  53  57  57  49  52  50  51  81 122]\n",
      " [163 159 114  68  41  30  28  47  71  79  77  68  66  62  49  48  46  54  50  54  84 123]\n",
      " [158 156 116  65  40  27  20  21  44  61  68  58  52  46  27  31  42  52  44  52  86 126]\n",
      " [155 156 115  63  37  24  16  12  19  21  27  21  18  15  13  23  39  48  39  50  86 128]\n",
      " [154 153 115  65  37  24  16   9   8   6   4   3   2   2   5  24  40  49  42  52  86 134]\n",
      " [158 154 115  65  40  29  22  14  12   8   5   2   2   4  12  38  51  54  46  51  82 133]\n",
      " [159 155 117  69  44  36  31  26  18  14   8   4   5  12  23  48  62  60  45  47  80 132]\n",
      " [162 157 118  73  51  50  53  47  31  17  13  11  12  21  31  58  70  63  45  48  84 133]\n",
      " [166 163 119  72  56  66  81  78  57  30  25  19  20  31  39  60  67  60  47  55  91 129]\n",
      " [167 163 121  74  60  68  87  89  79  50  34  26  27  37  48  59  65  63  53  60  92 127]\n",
      " [167 162 128  81  62  64  75  84  83  69  52  43  43  57  66  66  67  60  58  67  96 129]\n",
      " [167 170 131  82  63  65  71  82  84  79  75  68  65  73  79  71  63  54  58  68  99 134]\n",
      " [167 171 131  87  72  71  68  75  83  83  78  69  69  73  77  66  57  56  61  70 100 142]\n",
      " [169 170 136 103  97  89  74  73  74  76  77  75  76  76  73  69  68  70  78  86 111 142]\n",
      " [166 174 157 134 128 120 116 110 105 104 103 101 105 106 105 104 105 108 115 120 133 148]]\n"
     ]
    }
   ],
   "source": [
    "print (y_images)\n",
    "print (x_images.shape)\n",
    "print (x_images[:,:,0,0])"
   ]
  },
  {
   "cell_type": "code",
   "execution_count": 519,
   "metadata": {},
   "outputs": [
    {
     "data": {
      "image/png": "[encoded data removed]",
      "text/plain": [
       "<matplotlib.figure.Figure at 0x7ff32b1a09b0>"
      ]
     },
     "metadata": {},
     "output_type": "display_data"
    },
    {
     "data": {
      "image/png": "[encoded data removed]",
      "text/plain": [
       "<matplotlib.figure.Figure at 0x7ff32b0cb470>"
      ]
     },
     "metadata": {},
     "output_type": "display_data"
    },
    {
     "data": {
      "image/png": "[encoded data removed]",
      "text/plain": [
       "<matplotlib.figure.Figure at 0x7ff32b0f8f98>"
      ]
     },
     "metadata": {},
     "output_type": "display_data"
    },
    {
     "data": {
      "image/png": "[encoded data removed]",
      "text/plain": [
       "<matplotlib.figure.Figure at 0x7ff32ea14cf8>"
      ]
     },
     "metadata": {},
     "output_type": "display_data"
    },
    {
     "data": {
      "image/png": "[encoded data removed]",
      "text/plain": [
       "<matplotlib.figure.Figure at 0x7ff32baeea90>"
      ]
     },
     "metadata": {},
     "output_type": "display_data"
    },
    {
     "data": {
      "image/png": "[encoded data removed]",
      "text/plain": [
       "<matplotlib.figure.Figure at 0x7ff32b107898>"
      ]
     },
     "metadata": {},
     "output_type": "display_data"
    },
    {
     "data": {
      "image/png": "[encoded data removed]",
      "text/plain": [
       "<matplotlib.figure.Figure at 0x7ff33112fa20>"
      ]
     },
     "metadata": {},
     "output_type": "display_data"
    },
    {
     "data": {
      "image/png": "[encoded data removed]",
      "text/plain": [
       "<matplotlib.figure.Figure at 0x7ff32acb2898>"
      ]
     },
     "metadata": {},
     "output_type": "display_data"
    }
   ],
   "source": [
    "for ind in range(8):\n",
    "    plt.imshow(x_images[:,:,:,ind])\n",
    "    plt.show()"
   ]
  },
  {
   "cell_type": "code",
   "execution_count": null,
   "metadata": {},
   "outputs": [],
   "source": []
  },
  {
   "cell_type": "code",
   "execution_count": 517,
   "metadata": {},
   "outputs": [
    {
     "name": "stdout",
     "output_type": "stream",
     "text": [
      "(704, 3, 8)\n",
      "(704, 3, 8)\n",
      "(8, 2112)\n",
      "Correct Values: [9 0 1 6 0 5 0 1]\n",
      "Prediction:     [9 0 1 6 0 5 0 1]\n",
      "[[  5.91602003e-08   8.01290534e-10   3.41981128e-08   5.47366471e-06   1.01428235e-07   7.45874422e-06   3.03039158e-08   1.01471676e-09   3.81610516e-06   6.49696594e-05]\n",
      " [  4.98923531e-04   1.03538866e-07   2.61350522e-07   1.48382480e-06   1.00287822e-08   9.75182616e-07   1.04726337e-06   1.22866743e-06   1.21660651e-06   1.24964311e-06]\n",
      " [  3.68476162e-06   6.80617290e-04   1.05189038e-05   2.40500758e-05   1.89918512e-06   1.90570051e-06   5.96519499e-07   2.46111667e-05   1.82820149e-05   8.01794795e-06]\n",
      " [  1.15470712e-05   8.70621690e-08   2.12114898e-07   5.09284064e-06   1.11569349e-07   1.17094853e-04   1.21475598e-02   4.43737264e-07   2.03120566e-04   1.74874094e-06]\n",
      " [  4.93874885e-02   3.17219492e-05   4.60574483e-07   1.30943226e-06   9.12786254e-06   2.81323219e-06   1.80151110e-04   2.64838854e-06   3.23576169e-05   6.03232775e-06]\n",
      " [  1.49953817e-11   4.91375441e-13   9.58113727e-11   3.24020917e-08   8.94845378e-11   2.22779272e-04   8.40848486e-07   1.06492306e-11   5.16098879e-08   2.10836806e-08]\n",
      " [  4.61111739e-02   4.89636150e-05   8.21507274e-06   1.80727493e-05   7.58494161e-06   2.19703907e-05   3.02008179e-04   1.93376090e-05   2.42413516e-04   3.54565345e-05]\n",
      " [  1.10691565e-06   5.14246349e-04   8.81843243e-06   1.55200803e-04   1.63346533e-06   6.17631031e-06   4.28706528e-07   1.21268793e-04   2.32551974e-05   7.36102174e-06]]\n"
     ]
    }
   ],
   "source": [
    "x_images = x_images.astype('float32')\n",
    "x_images_three_dim= x_images.reshape(704,3,-1)\n",
    "x_images2 = x_images_three_dim.astype('float32')\n",
    "\n",
    "x_images2 /= 256\n",
    "x_images2 = 1-x_images2\n",
    "print (x_images2.shape)\n",
    "print (x_images_three_dim.shape)\n",
    "Xnew =x_images2.reshape((704*3,-1)).T\n",
    "print (Xnew.shape)\n",
    "\n",
    "\n",
    "out2 = model.predict(Xnew[0:8])\n",
    "y =y_images.reshape([-1])\n",
    "print ('Correct Values:',y_images)\n",
    "print ('Prediction:    ',np.argmax(out2, axis=1))\n",
    "print (out2[:])\n",
    "\n"
   ]
  },
  {
   "cell_type": "code",
   "execution_count": 417,
   "metadata": {},
   "outputs": [
    {
     "name": "stdout",
     "output_type": "stream",
     "text": [
      "total 5944872\r\n",
      "-rwx------.  1 s44c-ceeec93c5445c9-d36004008aa3 users     18768 Jan  8 14:11 0-001.png\r\n",
      "-rwx------.  1 s44c-ceeec93c5445c9-d36004008aa3 users     23613 Jan  8 14:11 0-002.png\r\n",
      "-rwx------.  1 s44c-ceeec93c5445c9-d36004008aa3 users     22849 Jan  8 14:12 0-003.png\r\n",
      "-rwx------.  1 s44c-ceeec93c5445c9-d36004008aa3 users     24949 Jan  8 14:09 1-001.png\r\n",
      "-rwx------.  1 s44c-ceeec93c5445c9-d36004008aa3 users     23143 Jan  8 14:10 1-002.png\r\n",
      "-rwx------.  1 s44c-ceeec93c5445c9-d36004008aa3 users     23617 Jan  8 14:12 5-001.png\r\n",
      "-rwx------.  1 s44c-ceeec93c5445c9-d36004008aa3 users     28356 Jan  8 14:10 6-001.png\r\n",
      "-rwx------.  1 s44c-ceeec93c5445c9-d36004008aa3 users     20289 Jan  8 14:12 9-001.png\r\n",
      "drwx------.  2 s44c-ceeec93c5445c9-d36004008aa3 users      4096 Dec 26 12:23 a2_m1.json\r\n",
      "-rw-------.  1 s44c-ceeec93c5445c9-d36004008aa3 users     48683 Dec 26 12:24 a2_m1.json.zip\r\n",
      "-rw-------.  1 s44c-ceeec93c5445c9-d36004008aa3 users     65767 Dec 26 12:24 a2_m1.json.zip.base64\r\n",
      "drwx------.  2 s44c-ceeec93c5445c9-d36004008aa3 users      4096 Jan  1 05:46 a2_m2.json\r\n",
      "-rw-------.  1 s44c-ceeec93c5445c9-d36004008aa3 users    100749 Jan  1 05:48 a2_m2.json.zip\r\n",
      "-rw-------.  1 s44c-ceeec93c5445c9-d36004008aa3 users    136100 Jan  1 05:48 a2_m2.json.zip.base64\r\n",
      "drwx------.  2 s44c-ceeec93c5445c9-d36004008aa3 users      4096 Jan  2 14:17 a2_m3.json\r\n",
      "-rw-------.  1 s44c-ceeec93c5445c9-d36004008aa3 users     93829 Jan  2 14:18 a2_m3.json.zip\r\n",
      "-rw-------.  1 s44c-ceeec93c5445c9-d36004008aa3 users    126755 Jan  2 14:18 a2_m3.json.zip.base64\r\n",
      "drwx------.  2 s44c-ceeec93c5445c9-d36004008aa3 users      4096 Jan  3 15:06 a2_m4.json\r\n",
      "-rw-------.  1 s44c-ceeec93c5445c9-d36004008aa3 users    230545 Jan  3 15:07 a2_m4.json.zip\r\n",
      "-rw-------.  1 s44c-ceeec93c5445c9-d36004008aa3 users    311441 Jan  3 15:07 a2_m4.json.zip.base64\r\n",
      "-rw-------.  1 s44c-ceeec93c5445c9-d36004008aa3 users       208 Jan  6 16:48 a_pivftl_anything.log\r\n",
      "-rw-------.  1 s44c-ceeec93c5445c9-d36004008aa3 users 445763450 Jan  7  2018 dl4j-quickstart-1.0-SNAPSHOT-jar-with-dependencies.jar\r\n",
      "drwx------. 18 s44c-ceeec93c5445c9-d36004008aa3 users      4096 Dec 23 12:30 HMP_Dataset\r\n",
      "-rw-------.  1 s44c-ceeec93c5445c9-d36004008aa3 users      2850 Jan  5 08:59 iris.txt\r\n",
      "drwx------.  2 s44c-ceeec93c5445c9-d36004008aa3 users      4096 Jan  4 13:58 MNIST_data\r\n",
      "-rw-------.  1 s44c-ceeec93c5445c9-d36004008aa3 users   6454400 Jan  4 16:24 model.h5\r\n",
      "-rw-------.  1 s44c-ceeec93c5445c9-d36004008aa3 users   8719104 Jan  4 16:24 model.h5.base64\r\n",
      "-rw-------.  1 s44c-ceeec93c5445c9-d36004008aa3 users    522913 Jan  8 13:05 model.pck\r\n",
      "-rw-------.  1 s44c-ceeec93c5445c9-d36004008aa3 users    522913 Jan  8 14:03 modelv2.pck\r\n",
      "-rw-------.  1 s44c-ceeec93c5445c9-d36004008aa3 users   1785167 Jan  8 16:51 modelv3.pck\r\n",
      "-rw-------.  1 s44c-ceeec93c5445c9-d36004008aa3 users   1785189 Jan  9 08:01 modelv8.pck\r\n",
      "drwx------.  2 s44c-ceeec93c5445c9-d36004008aa3 users      4096 Jan  9 16:06 numbers\r\n",
      "drwx------. 15 s44c-ceeec93c5445c9-d36004008aa3 users      8192 Jan  7 14:01 OpenBLAS-0.2.20\r\n",
      "drwx------.  2 s44c-ceeec93c5445c9-d36004008aa3 users      4096 Jan  6 16:47 __pycache__\r\n",
      "-rw-------.  1 s44c-ceeec93c5445c9-d36004008aa3 users      2289 Jan  6 16:47 rklib.py\r\n",
      "-rw-------.  1 s44c-ceeec93c5445c9-d36004008aa3 users      1738 Jan  4 16:25 rklib.pyc\r\n",
      "drwxrwxrwx.  2 s44c-ceeec93c5445c9-d36004008aa3 users      4096 Jan  3 14:37 scratch_space\r\n",
      "-rw-------.  1 s44c-ceeec93c5445c9-d36004008aa3 users      1728 Jan  7 14:14 sequential_1_model.proto\r\n",
      "-rw-------.  1 s44c-ceeec93c5445c9-d36004008aa3 users       236 Jan  7 14:14 sequential_1_model_solver.proto\r\n",
      "-rw-------.  1 s44c-ceeec93c5445c9-d36004008aa3 users  64275384 Dec  5  2011 test_32x32.mat\r\n",
      "-rw-------.  1 s44c-ceeec93c5445c9-d36004008aa3 users  64275384 Dec  5  2011 test_32x32.mat.1\r\n",
      "-rw-------.  1 s44c-ceeec93c5445c9-d36004008aa3 users  64275384 Dec  5  2011 test_32x32.mat.2\r\n",
      "-rw-------.  1 s44c-ceeec93c5445c9-d36004008aa3 users 182040794 Dec  5  2011 train_32x32.mat\r\n",
      "-rw-------.  1 s44c-ceeec93c5445c9-d36004008aa3 users 182040794 Dec  5  2011 train_32x32.mat.1\r\n",
      "-rw-------.  1 s44c-ceeec93c5445c9-d36004008aa3 users 182040794 Dec  5  2011 train_32x32.mat.2\r\n",
      "-rw-------.  1 s44c-ceeec93c5445c9-d36004008aa3 users 182040794 Dec  5  2011 train_32x32.mat.3\r\n",
      "-rw-------.  1 s44c-ceeec93c5445c9-d36004008aa3 users 404141560 Dec  5  2011 train.tar.gz\r\n",
      "-rw-------.  1 s44c-ceeec93c5445c9-d36004008aa3 users  11637301 Jan  7 13:57 v0.2.20.tar.gz\r\n",
      "-rw-------.  1 s44c-ceeec93c5445c9-d36004008aa3 users    185401 Jan  6 16:46 watsoniotp.broken.pickle\r\n",
      "-rw-------.  1 s44c-ceeec93c5445c9-d36004008aa3 users    194639 Jan  6 16:46 watsoniotp.healthy.pickle\r\n",
      "drwx------.  2 s44c-ceeec93c5445c9-d36004008aa3 users      4096 Jan  7 14:14 weights_dir\r\n",
      "-rw-------.  1 s44c-ceeec93c5445c9-d36004008aa3 users 225045600 Jan  8 09:48 x_train.npy\r\n"
     ]
    }
   ],
   "source": [
    "!ls -l\n"
   ]
  },
  {
   "cell_type": "code",
   "execution_count": null,
   "metadata": {},
   "outputs": [],
   "source": []
  }
 ],
 "metadata": {
  "kernelspec": {
   "display_name": "Python 3.5 with Spark 2.1",
   "language": "python",
   "name": "python3-spark21"
  },
  "language_info": {
   "codemirror_mode": {
    "name": "ipython",
    "version": 3
   },
   "file_extension": ".py",
   "mimetype": "text/x-python",
   "name": "python",
   "nbconvert_exporter": "python",
   "pygments_lexer": "ipython3",
   "version": "3.5.4"
  }
 },
 "nbformat": 4,
 "nbformat_minor": 1
}
